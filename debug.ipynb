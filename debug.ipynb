{
 "cells": [
  {
   "cell_type": "code",
   "execution_count": 1,
   "metadata": {},
   "outputs": [],
   "source": [
    "import pandas as pd"
   ]
  },
  {
   "cell_type": "code",
   "execution_count": 15,
   "metadata": {},
   "outputs": [],
   "source": [
    "df = pd.read_pickle('preferences.pkl')"
   ]
  },
  {
   "cell_type": "code",
   "execution_count": 16,
   "metadata": {},
   "outputs": [
    {
     "data": {
      "text/html": [
       "<div>\n",
       "<style scoped>\n",
       "    .dataframe tbody tr th:only-of-type {\n",
       "        vertical-align: middle;\n",
       "    }\n",
       "\n",
       "    .dataframe tbody tr th {\n",
       "        vertical-align: top;\n",
       "    }\n",
       "\n",
       "    .dataframe thead th {\n",
       "        text-align: right;\n",
       "    }\n",
       "</style>\n",
       "<table border=\"1\" class=\"dataframe\">\n",
       "  <thead>\n",
       "    <tr style=\"text-align: right;\">\n",
       "      <th></th>\n",
       "      <th>pref_name</th>\n",
       "      <th>views</th>\n",
       "      <th>common_filters</th>\n",
       "      <th>iterations</th>\n",
       "      <th>iteration_details</th>\n",
       "    </tr>\n",
       "  </thead>\n",
       "  <tbody>\n",
       "    <tr>\n",
       "      <th>1</th>\n",
       "      <td>dummy1</td>\n",
       "      <td>[Serve View, Return View (Heat Map)]</td>\n",
       "      <td>{'Player Name': 'PlayerName:Ajla Tomljanovic',...</td>\n",
       "      <td>{'Serve View': 1, 'Return View (Heat Map)': 1}</td>\n",
       "      <td>{}</td>\n",
       "    </tr>\n",
       "    <tr>\n",
       "      <th>1</th>\n",
       "      <td>dummy2</td>\n",
       "      <td>[Serve View, Ground Stroke with KPI Cards (2)]</td>\n",
       "      <td>{'Player Name': 'PlayerName:Ajla Tomljanovic',...</td>\n",
       "      <td>{'Serve View': 1, 'Return View (Heat Map)': 1,...</td>\n",
       "      <td>{}</td>\n",
       "    </tr>\n",
       "    <tr>\n",
       "      <th>2</th>\n",
       "      <td>dummy3</td>\n",
       "      <td>[Serve View, Ground Stroke with KPI Cards (2)]</td>\n",
       "      <td>{'Player Name': 'PlayerName:Ajla Tomljanovic',...</td>\n",
       "      <td>{'Serve View': 1, 'Return View (Heat Map)': 1,...</td>\n",
       "      <td>{}</td>\n",
       "    </tr>\n",
       "    <tr>\n",
       "      <th>3</th>\n",
       "      <td>dummy4</td>\n",
       "      <td>[Serve View, Ground Stroke with KPI Cards (2)]</td>\n",
       "      <td>{'Player Name': 'PlayerName:Ajla Tomljanovic',...</td>\n",
       "      <td>{'Serve View': 2, 'Ground Stroke with KPI Card...</td>\n",
       "      <td>{}</td>\n",
       "    </tr>\n",
       "    <tr>\n",
       "      <th>4</th>\n",
       "      <td>dummy5</td>\n",
       "      <td>[Serve View, Ground Stroke with KPI Cards (2)]</td>\n",
       "      <td>{'Player Name': 'PlayerName:Ajla Tomljanovic',...</td>\n",
       "      <td>{'Serve View': 2, 'Ground Stroke with KPI Card...</td>\n",
       "      <td>{}</td>\n",
       "    </tr>\n",
       "  </tbody>\n",
       "</table>\n",
       "</div>"
      ],
      "text/plain": [
       "  pref_name                                           views  \\\n",
       "1    dummy1            [Serve View, Return View (Heat Map)]   \n",
       "1    dummy2  [Serve View, Ground Stroke with KPI Cards (2)]   \n",
       "2    dummy3  [Serve View, Ground Stroke with KPI Cards (2)]   \n",
       "3    dummy4  [Serve View, Ground Stroke with KPI Cards (2)]   \n",
       "4    dummy5  [Serve View, Ground Stroke with KPI Cards (2)]   \n",
       "\n",
       "                                      common_filters  \\\n",
       "1  {'Player Name': 'PlayerName:Ajla Tomljanovic',...   \n",
       "1  {'Player Name': 'PlayerName:Ajla Tomljanovic',...   \n",
       "2  {'Player Name': 'PlayerName:Ajla Tomljanovic',...   \n",
       "3  {'Player Name': 'PlayerName:Ajla Tomljanovic',...   \n",
       "4  {'Player Name': 'PlayerName:Ajla Tomljanovic',...   \n",
       "\n",
       "                                          iterations iteration_details  \n",
       "1     {'Serve View': 1, 'Return View (Heat Map)': 1}                {}  \n",
       "1  {'Serve View': 1, 'Return View (Heat Map)': 1,...                {}  \n",
       "2  {'Serve View': 1, 'Return View (Heat Map)': 1,...                {}  \n",
       "3  {'Serve View': 2, 'Ground Stroke with KPI Card...                {}  \n",
       "4  {'Serve View': 2, 'Ground Stroke with KPI Card...                {}  "
      ]
     },
     "execution_count": 16,
     "metadata": {},
     "output_type": "execute_result"
    }
   ],
   "source": [
    "df"
   ]
  },
  {
   "cell_type": "code",
   "execution_count": 17,
   "metadata": {},
   "outputs": [],
   "source": [
    "pref_row = pd.read_pickle('preferences.pkl')\n",
    "pref_row = pref_row.loc[pref_row.pref_name == 'dummy5']\n",
    "common_filters = pref_row.common_filters.values[0]\n",
    "iterations = pref_row.iterations.values[0]\n",
    "iteration_details = pref_row.iteration_details.values[0]"
   ]
  },
  {
   "cell_type": "code",
   "execution_count": 18,
   "metadata": {},
   "outputs": [
    {
     "data": {
      "text/plain": [
       "{'Player Name': 'PlayerName:Ajla Tomljanovic',\n",
       " 'Surface': None,\n",
       " 'Opponent Hand': 'opponent_handedness:Left'}"
      ]
     },
     "execution_count": 18,
     "metadata": {},
     "output_type": "execute_result"
    }
   ],
   "source": [
    "common_filters"
   ]
  },
  {
   "cell_type": "code",
   "execution_count": 19,
   "metadata": {},
   "outputs": [
    {
     "data": {
      "text/plain": [
       "{'Serve View': 2, 'Ground Stroke with KPI Cards (2)': 2}"
      ]
     },
     "execution_count": 19,
     "metadata": {},
     "output_type": "execute_result"
    }
   ],
   "source": [
    "iterations"
   ]
  },
  {
   "cell_type": "code",
   "execution_count": 20,
   "metadata": {},
   "outputs": [
    {
     "data": {
      "text/plain": [
       "{}"
      ]
     },
     "execution_count": 20,
     "metadata": {},
     "output_type": "execute_result"
    }
   ],
   "source": [
    "iteration_details"
   ]
  },
  {
   "cell_type": "code",
   "execution_count": 21,
   "metadata": {},
   "outputs": [],
   "source": [
    "temp_dict = {}"
   ]
  },
  {
   "cell_type": "code",
   "execution_count": 24,
   "metadata": {},
   "outputs": [
    {
     "ename": "SyntaxError",
     "evalue": "cannot assign to function call here. Maybe you meant '==' instead of '='? (3348000212.py, line 1)",
     "output_type": "error",
     "traceback": [
      "\u001b[1;36m  Cell \u001b[1;32mIn[24], line 1\u001b[1;36m\u001b[0m\n\u001b[1;33m    temp_dict.get('serve_view', {}) = \"value\"\u001b[0m\n\u001b[1;37m    ^\u001b[0m\n\u001b[1;31mSyntaxError\u001b[0m\u001b[1;31m:\u001b[0m cannot assign to function call here. Maybe you meant '==' instead of '='?\n"
     ]
    }
   ],
   "source": [
    "temp_dict['serve_view'] = {}"
   ]
  },
  {
   "cell_type": "code",
   "execution_count": 23,
   "metadata": {},
   "outputs": [
    {
     "data": {
      "text/plain": [
       "{}"
      ]
     },
     "execution_count": 23,
     "metadata": {},
     "output_type": "execute_result"
    }
   ],
   "source": [
    "temp_dict"
   ]
  },
  {
   "cell_type": "code",
   "execution_count": null,
   "metadata": {},
   "outputs": [],
   "source": []
  }
 ],
 "metadata": {
  "kernelspec": {
   "display_name": "tableau_app_env",
   "language": "python",
   "name": "python3"
  },
  "language_info": {
   "codemirror_mode": {
    "name": "ipython",
    "version": 3
   },
   "file_extension": ".py",
   "mimetype": "text/x-python",
   "name": "python",
   "nbconvert_exporter": "python",
   "pygments_lexer": "ipython3",
   "version": "3.12.0"
  }
 },
 "nbformat": 4,
 "nbformat_minor": 2
}
